{
 "cells": [
  {
   "cell_type": "markdown",
   "id": "216654e4",
   "metadata": {},
   "source": [
    "# Detekcija i rešavanje osmosmerke"
   ]
  },
  {
   "cell_type": "code",
   "execution_count": null,
   "id": "c49568f4",
   "metadata": {},
   "outputs": [],
   "source": [
    "from PIL import Image\n",
    "from pytesseract import Output\n",
    "import cv2\n",
    "import pytesseract\n",
    "import numpy as np\n",
    "import matplotlib\n",
    "import matplotlib.pyplot as plt\n",
    "%matplotlib inline\n",
    "matplotlib.rcParams['figure.figsize'] = 25, 15\n",
    "\n",
    "import import_ipynb\n",
    "from wordsearcher import find_matches"
   ]
  },
  {
   "cell_type": "code",
   "execution_count": null,
   "id": "2cb2a945",
   "metadata": {},
   "outputs": [],
   "source": [
    "# poboljšanje rezolucije slike na 300 DPI\n",
    "def change_resolution(image_path):\n",
    "    image = Image.open(image_path)\n",
    "    image.save(image_path, dpi=(300, 300))\n",
    "    \n",
    "# učitavanje slike\n",
    "def load_image(path):\n",
    "    return cv2.cvtColor(cv2.imread(path), cv2.COLOR_BGR2RGB)\n",
    "\n",
    "# konvertovanje slike u grayscale\n",
    "def image_to_gray(image):\n",
    "    return cv2.cvtColor(image, cv2.COLOR_RGB2GRAY)\n",
    "\n",
    "# konvertovanje slike u binarnu\n",
    "def image_to_bin(image_gs):\n",
    "    height, width = image_gs.shape[0:2]\n",
    "    image_binary = np.ndarray((height, width), dtype=np.uint8)\n",
    "    return cv2.threshold(image_gs, 127, 255, cv2.THRESH_BINARY)[1]\n",
    "\n",
    "# ispravljanje rotirane slike\n",
    "def skew_correction(image):\n",
    "    gray = cv2.cvtColor(image, cv2.COLOR_BGR2GRAY)\n",
    "    gray = cv2.bitwise_not(gray)\n",
    "    thresh = cv2.threshold(gray, 0, 255, cv2.THRESH_BINARY | cv2.THRESH_OTSU)[1]\n",
    "    coords = np.column_stack(np.where(thresh > 0))\n",
    "    angle = cv2.minAreaRect(coords)[-1]\n",
    "    # cv2.minAreaRect() vraća vrednosti iz intervala [-90, 0)\n",
    "    if angle == 0:\n",
    "        return image\n",
    "    elif angle < -45:\n",
    "        angle = -(90 + angle)\n",
    "    else:\n",
    "        angle = -angle\n",
    "    \n",
    "    h, w = image.shape[:2]\n",
    "    center = (w // 2, h // 2)\n",
    "    M = cv2.getRotationMatrix2D(center, angle, 1.0)\n",
    "    return cv2.warpAffine(image, M, (w, h), flags=cv2.INTER_NEAREST, borderMode=cv2.BORDER_REPLICATE)\n",
    "\n",
    "# uklanjanje šumova\n",
    "def smoothing_image(image):\n",
    "    t1 = cv2.threshold(image, 180, 255, cv2.THRESH_BINARY)[1]\n",
    "    t2 = cv2.threshold(t1, 0, 255, cv2.THRESH_BINARY + cv2.THRESH_OTSU)[1]\n",
    "    blur = cv2.medianBlur(t2, 1, 0)\n",
    "    t3 = cv2.threshold(blur, 0, 255, cv2.THRESH_BINARY + cv2.THRESH_OTSU)[1]\n",
    "    return t3\n",
    "\n",
    "# otvaranje = erozija + dilacija\n",
    "def opening(image):\n",
    "    kernel = np.ones((3, 3))\n",
    "    return cv2.morphologyEx(image, cv2.MORPH_OPEN, kernel)\n",
    "\n",
    "# prikaz slike\n",
    "def display_image(image, color=False):\n",
    "    if color:\n",
    "        plt.imshow(image)\n",
    "    else:\n",
    "        plt.imshow(image, 'gray')\n",
    "\n",
    "# dobavljanje okvira osmosmerke\n",
    "def find_frame(contours, half_height):\n",
    "    contours = sorted(contours, key=lambda x: cv2.contourArea(x), reverse=True)\n",
    "    for i in range(1, len(contours)):\n",
    "        frame_contour = contours[i]\n",
    "        x, y, w, h = cv2.boundingRect(frame_contour)\n",
    "        if y < half_height:\n",
    "            return (x, y, w, h)\n",
    "\n",
    "# selektovanje regiona oko slova zadatih reči\n",
    "def select_letters(image_bin, contours, frame):\n",
    "    mask = np.zeros(image_bin.shape[:2], dtype=np.uint8)\n",
    "    sorted_regions = [] \n",
    "    regions_array = []\n",
    "    for contour in contours:\n",
    "        x, y, w, h = cv2.boundingRect(contour) \n",
    "        if h < 100 and h > 20:\n",
    "            # frame[0] je x koordinata gornjeg levog ćoška frame-a, frame[1] je y koordinata, a frame[3] je visina frame-a\n",
    "            if x < frame[0] or y > frame[1] + frame[3]:\n",
    "                cv2.rectangle(mask, (x, y), (x + w, y + h), (255, 0, 0), -1)\n",
    "    return mask        \n",
    "\n",
    "# isecanje slike na veličinu frame-a\n",
    "def crop_to_frame(image, frame):\n",
    "    x, y, w, h = frame\n",
    "    return image[y:y+h+1, x:x+w+1]\n",
    "\n",
    "# dobavljanje sortiranih površina unutar kontura\n",
    "def get_sorted_areas(contours):\n",
    "    areas = []\n",
    "    for contour in contours:\n",
    "        areas.append(cv2.contourArea(contour))\n",
    "    areas.sort()\n",
    "    return areas\n",
    "\n",
    "# uklanjanje slike unutar osmosmerke, ukoliko ona postoji\n",
    "def remove_image(wordsearch, contours):\n",
    "    #print(get_sorted_areas(contours))\n",
    "    contours = sorted(contours, key=lambda x: cv2.contourArea(x), reverse=True)\n",
    "    max_area = cv2.contourArea(contours[0])\n",
    "    for contour in contours:\n",
    "        x, y, w, h = cv2.boundingRect(contour) \n",
    "        area = cv2.contourArea(contour)\n",
    "        if area < max_area / 2:\n",
    "            cv2.rectangle(wordsearch, (x - 10, y - 10), (x + w + 10, y + h + 10), (255, 255, 255), -1)\n",
    "            return\n",
    "\n",
    "# uklanjanje crnog okvira oko osmosmerke\n",
    "def remove_black_frame(image):\n",
    "    x, y, w, h = 0, 0, image.shape[1], image.shape[0]\n",
    "    cv2.rectangle(image, (x, y), (x + w, y + h), (255, 255, 255), 30)\n",
    "\n",
    "# primena OCR-a za zadate reči\n",
    "def ocr_words(image):\n",
    "    d = pytesseract.image_to_data(image, lang='srp_latn', config='--oem 1', output_type=Output.DICT)\n",
    "    n_boxes = len(d['text'])\n",
    "    results = []\n",
    "    confidences = []\n",
    "    for i in range(n_boxes):\n",
    "        if d['conf'][i] != '-1':\n",
    "            results.append(d['text'][i])\n",
    "            confidences.append(float(d['conf'][i]))\n",
    "    \n",
    "    return d, results, round(sum(confidences) / len(confidences), 2)\n",
    "\n",
    "# primena OCR-a za osmosmerku\n",
    "def ocr_wordsearch(image):\n",
    "    d = pytesseract.image_to_data(image, lang='srp_latn', config='--psm 6 --oem 0', output_type=Output.DICT)\n",
    "    n_boxes = len(d['text'])\n",
    "    results = []\n",
    "    confidences = []\n",
    "    prev_ln = '0'\n",
    "    for i in range(n_boxes):\n",
    "        result = d['text'][i]\n",
    "        confidence = d['conf'][i]\n",
    "        ln = d['line_num'][i]\n",
    "        \n",
    "        if confidence != '-1':\n",
    "            if ln == prev_ln:\n",
    "                results[-1] += result\n",
    "            else:\n",
    "                results.append(result)\n",
    "                prev_ln = ln\n",
    "            confidences.append(float(confidence))\n",
    "    \n",
    "    return d, results, round(sum(confidences) / len(confidences), 2)"
   ]
  },
  {
   "cell_type": "markdown",
   "id": "9efd8674",
   "metadata": {},
   "source": [
    "## Pretprocesiranje slika"
   ]
  },
  {
   "cell_type": "code",
   "execution_count": null,
   "id": "e717183e",
   "metadata": {
    "scrolled": false
   },
   "outputs": [],
   "source": [
    "# TODO: odraditi za sve slike\n",
    "change_resolution('data/10.jpg')\n",
    "image_color = load_image('data/10.jpg')\n",
    "image_rotated = skew_correction(image_color)\n",
    "image_bin = image_to_bin(image_to_gray(image_rotated))\n",
    "image_smooth = smoothing_image(image_bin)\n",
    "image = opening(image_smooth)\n",
    "#cv2.imwrite('data/3.jpg', image)\n",
    "    \n",
    "display_image(image)"
   ]
  },
  {
   "cell_type": "markdown",
   "id": "bd36d053",
   "metadata": {},
   "source": [
    "## Detekcija zadatih reči"
   ]
  },
  {
   "cell_type": "code",
   "execution_count": null,
   "id": "ce0ec5a6",
   "metadata": {},
   "outputs": [],
   "source": [
    "# prvo pronalazimo okvir osmosmerke, kako bi posmatrali samo reči izvan njega\n",
    "contours = cv2.findContours(image.copy(), cv2.RETR_LIST, cv2.CHAIN_APPROX_SIMPLE)[0]\n",
    "frame = find_frame(contours, image.shape[0] / 2)\n",
    "x, y, w, h = frame\n",
    "cv2.rectangle(image_color, (x, y), (x + w, y + h), (255, 0, 0), -1)\n",
    "\n",
    "# izolujemo samo regione koji sadrže zadate reči\n",
    "mask = select_letters(image, contours, frame) \n",
    "image_words = cv2.bitwise_and(image, image, mask=mask)\n",
    "image_words[mask==0] = 255\n",
    "\n",
    "display_image(image_words)"
   ]
  },
  {
   "cell_type": "code",
   "execution_count": null,
   "id": "58f3bb76",
   "metadata": {
    "scrolled": false
   },
   "outputs": [],
   "source": [
    "dict_words, words, confidence = ocr_words(image_words)\n",
    "\n",
    "print(\"Prepoznate reči: \", words)\n",
    "print(\"Procenat sigurnosti: \", confidence)"
   ]
  },
  {
   "cell_type": "markdown",
   "id": "e605baa8",
   "metadata": {},
   "source": [
    "## Detekcija slova u osmosmerci"
   ]
  },
  {
   "cell_type": "code",
   "execution_count": null,
   "id": "cb9b9c83",
   "metadata": {},
   "outputs": [],
   "source": [
    "# isecanje dela slike koji sadrži osmosmerku\n",
    "image_wordsearch = crop_to_frame(image, frame)\n",
    "img = crop_to_frame(image_color, frame)\n",
    "contours = cv2.findContours(image_wordsearch.copy(), cv2.RETR_LIST, cv2.CHAIN_APPROX_SIMPLE)[0]\n",
    "\n",
    "# uklanjanje slike rešenja unutar osmosmerke\n",
    "remove_image(image_wordsearch, contours)\n",
    "\n",
    "# uklanjanje crnog okvira oko osmosmerke\n",
    "remove_black_frame(image_wordsearch)\n",
    "\n",
    "display_image(image_wordsearch)"
   ]
  },
  {
   "cell_type": "code",
   "execution_count": null,
   "id": "5a65e950",
   "metadata": {
    "scrolled": false
   },
   "outputs": [],
   "source": [
    "dict_wordsearch, wordsearch, confidence = ocr_wordsearch(image_wordsearch)\n",
    "\n",
    "print(\"Prepoznata slova (linije): \", wordsearch)\n",
    "print(\"Procenat sigurnosti: \", confidence)"
   ]
  },
  {
   "cell_type": "markdown",
   "id": "8cc1cd58",
   "metadata": {},
   "source": [
    "## Rešavanje osmosmerke"
   ]
  },
  {
   "cell_type": "code",
   "execution_count": null,
   "id": "58f5b750",
   "metadata": {},
   "outputs": [],
   "source": [
    "matches = find_matches(wordsearch, words)\n",
    "print(len(words))\n",
    "print(len(matches))"
   ]
  },
  {
   "cell_type": "markdown",
   "id": "59312c2e",
   "metadata": {},
   "source": [
    "## Prikaz i analiza dobijenog rešenja"
   ]
  },
  {
   "cell_type": "code",
   "execution_count": null,
   "id": "b63207a8",
   "metadata": {},
   "outputs": [],
   "source": []
  }
 ],
 "metadata": {
  "kernelspec": {
   "display_name": "Python 3 (ipykernel)",
   "language": "python",
   "name": "python3"
  },
  "language_info": {
   "codemirror_mode": {
    "name": "ipython",
    "version": 3
   },
   "file_extension": ".py",
   "mimetype": "text/x-python",
   "name": "python",
   "nbconvert_exporter": "python",
   "pygments_lexer": "ipython3",
   "version": "3.9.0"
  }
 },
 "nbformat": 4,
 "nbformat_minor": 5
}
