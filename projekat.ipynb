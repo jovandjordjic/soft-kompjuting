{
 "cells": [
  {
   "cell_type": "markdown",
   "id": "216654e4",
   "metadata": {},
   "source": [
    "# Detekcija i rešavanje osmosmerke"
   ]
  },
  {
   "cell_type": "code",
   "execution_count": null,
   "id": "c49568f4",
   "metadata": {},
   "outputs": [],
   "source": [
    "from PIL import Image\n",
    "import cv2\n",
    "import pytesseract\n",
    "import numpy as np\n",
    "import matplotlib\n",
    "import matplotlib.pyplot as plt\n",
    "%matplotlib inline\n",
    "matplotlib.rcParams['figure.figsize'] = 25, 15"
   ]
  },
  {
   "cell_type": "code",
   "execution_count": null,
   "id": "2cb2a945",
   "metadata": {},
   "outputs": [],
   "source": [
    "# poboljšanje rezolucije slike na 300 DPI\n",
    "def change_resolution(image_path):\n",
    "    image = Image.open(image_path)\n",
    "    image.save(image_path, dpi=(300, 300))\n",
    "    \n",
    "# učitavanje slike\n",
    "def load_image(path):\n",
    "    return cv2.cvtColor(cv2.imread(path), cv2.COLOR_BGR2RGB)\n",
    "\n",
    "# konvertovanje slike u grayscale\n",
    "def image_to_gray(image):\n",
    "    return cv2.cvtColor(image, cv2.COLOR_RGB2GRAY)\n",
    "\n",
    "# konvertovanje slike u binarnu\n",
    "def image_to_bin(image_gs):\n",
    "    height, width = image_gs.shape[0:2]\n",
    "    image_binary = np.ndarray((height, width), dtype=np.uint8)\n",
    "    return cv2.threshold(image_gs, 127, 255, cv2.THRESH_BINARY)[1]\n",
    "\n",
    "# ispravljanje rotirane slike\n",
    "def skew_correction(image):\n",
    "    gray = cv2.cvtColor(image, cv2.COLOR_BGR2GRAY)\n",
    "    gray = cv2.bitwise_not(gray)\n",
    "    thresh = cv2.threshold(gray, 0, 255, cv2.THRESH_BINARY | cv2.THRESH_OTSU)[1]\n",
    "    coords = np.column_stack(np.where(thresh > 0))\n",
    "    angle = cv2.minAreaRect(coords)[-1]\n",
    "    # cv2.minAreaRect() vraća vrednosti iz intervala [-90, 0)\n",
    "    if angle == 0:\n",
    "        return image\n",
    "    elif angle < -45:\n",
    "        angle = -(90 + angle)\n",
    "    else:\n",
    "        angle = -angle\n",
    "    \n",
    "    h, w = image.shape[:2]\n",
    "    center = (w // 2, h // 2)\n",
    "    M = cv2.getRotationMatrix2D(center, angle, 1.0)\n",
    "    return cv2.warpAffine(image, M, (w, h), flags=cv2.INTER_NEAREST, borderMode=cv2.BORDER_REPLICATE)\n",
    "\n",
    "# uklanjanje šumova\n",
    "def smoothing_image(image):\n",
    "    t1 = cv2.threshold(image, 180, 255, cv2.THRESH_BINARY)[1]\n",
    "    t2 = cv2.threshold(t1, 0, 255, cv2.THRESH_BINARY + cv2.THRESH_OTSU)[1]\n",
    "    blur = cv2.medianBlur(t2, 1, 0)\n",
    "    t3 = cv2.threshold(blur, 0, 255, cv2.THRESH_BINARY + cv2.THRESH_OTSU)[1]\n",
    "    return t3\n",
    "\n",
    "# otvaranje = erozija + dilacija\n",
    "def opening(image):\n",
    "    kernel = np.ones((3, 3))\n",
    "    return cv2.morphologyEx(image, cv2.MORPH_OPEN, kernel)\n",
    "\n",
    "# prikaz slike\n",
    "def display_image(image, color=False):\n",
    "    if color:\n",
    "        plt.imshow(image)\n",
    "    else:\n",
    "        plt.imshow(image, 'gray')\n",
    "\n",
    "# dobavljanje sortiranih površina unutar kontura\n",
    "def get_sorted_areas(contours):\n",
    "    areas = []\n",
    "    for contour in contours:\n",
    "        areas.append(cv2.contourArea(contour))\n",
    "    areas.sort()\n",
    "    return areas\n",
    "\n",
    "# selektovanje i vraćanje okvira osmosmerke\n",
    "def find_frame(image_bin, contours):\n",
    "    frame_area = get_sorted_areas(contours)[-2]\n",
    "    for contour in contours:\n",
    "        x, y, w, h = cv2.boundingRect(contour) \n",
    "        area = cv2.contourArea(contour) \n",
    "        if area == frame_area:\n",
    "            return (x, y, w, h)\n",
    "\n",
    "# selektovanje regiona oko slova zadatih reči\n",
    "def select_letters(image_bin, contours, frame):\n",
    "    mask = np.zeros(image_bin.shape[:2], dtype=np.uint8)\n",
    "    sorted_regions = [] \n",
    "    regions_array = []\n",
    "    for contour in contours:\n",
    "        x, y, w, h = cv2.boundingRect(contour) \n",
    "        area = cv2.contourArea(contour) # area se računa kako bi izbacili šumove\n",
    "        if area > 150 and h < 100 and h > 30:\n",
    "            # frame[0] je x koordinata gornjeg levog ćoška frame-a, frame[1] je y koordinata, a frame[3] je visina frame-a\n",
    "            if x < frame[0] or y > frame[1] + frame[3]:\n",
    "                cv2.rectangle(mask, (x, y), (x + w, y + h), (255, 0, 0), -1)\n",
    "    return mask        \n",
    "\n",
    "# isecanje slike na veličinu frame-a\n",
    "def crop_to_frame(image, frame):\n",
    "    x, y, w, h = frame\n",
    "    return image[y:y+h+1, x:x+w+1]\n",
    "\n",
    "# uklanjanje slike unutar osmosmerke, ukoliko ona postoji\n",
    "def remove_image(wordsearch, contours):\n",
    "    mask = np.zeros(wordsearch.shape[:2], dtype=np.uint8)\n",
    "    areas = get_sorted_areas(contours)\n",
    "    for contour in contours:\n",
    "        x, y, w, h = cv2.boundingRect(contour) \n",
    "        area = cv2.contourArea(contour)\n",
    "        if area == areas[-3] and areas[-4] < areas[-3]/5:\n",
    "            cv2.rectangle(mask, (x, y), (x + w, y + h), (255, 0, 0), -1)\n",
    "    return mask"
   ]
  },
  {
   "cell_type": "markdown",
   "id": "9efd8674",
   "metadata": {},
   "source": [
    "## Pretprocesiranje slika"
   ]
  },
  {
   "cell_type": "code",
   "execution_count": null,
   "id": "e717183e",
   "metadata": {
    "scrolled": false
   },
   "outputs": [],
   "source": [
    "# TODO: odraditi za sve slike\n",
    "change_resolution('data/308vx - 01.jpg')\n",
    "image_color = load_image('data/308vx - 01.jpg')\n",
    "image_rotated = skew_correction(image_color)\n",
    "image_bin = image_to_bin(image_to_gray(image_rotated))\n",
    "image_smooth = smoothing_image(image_bin)\n",
    "image = opening(image_smooth)\n",
    "    \n",
    "display_image(image)"
   ]
  },
  {
   "cell_type": "markdown",
   "id": "bd36d053",
   "metadata": {},
   "source": [
    "## Detekcija zadatih reči"
   ]
  },
  {
   "cell_type": "code",
   "execution_count": null,
   "id": "ce0ec5a6",
   "metadata": {},
   "outputs": [],
   "source": [
    "# prvo pronalazimo okvir osmosmerke, kako bi posmatrali samo reči izvan njega\n",
    "contours = cv2.findContours(image.copy(), cv2.RETR_LIST, cv2.CHAIN_APPROX_SIMPLE)[0]\n",
    "frame = find_frame(image, contours)\n",
    "\n",
    "# izolujemo samo regione koji sadrže zadate reči\n",
    "mask = select_letters(image, contours, frame) \n",
    "image_words = cv2.bitwise_and(image, image, mask=mask)\n",
    "image_words[mask==0] = 255\n",
    "\n",
    "display_image(image_words)"
   ]
  },
  {
   "cell_type": "code",
   "execution_count": null,
   "id": "58f3bb76",
   "metadata": {
    "scrolled": false
   },
   "outputs": [],
   "source": [
    "alphabet = ['A', 'B', 'C', 'Č', 'Ć', 'D', 'Dž', 'Đ', 'E', 'F', 'G', 'H', 'I', 'J', 'K', 'L', 'Lj', 'M', 'N', 'Nj', 'O', 'P', 'R', 'S', 'Š', 'T', 'U', 'V', 'Z', 'Ž', '\\n']\n",
    "\n",
    "words = pytesseract.image_to_string(image_words, lang='srp_latn')\n",
    "words = ''.join([c for c in words if c in alphabet]).split() # uklanjanje slova koja se ne nalaze u alfabetu\n",
    "\n",
    "print(words)"
   ]
  },
  {
   "cell_type": "markdown",
   "id": "e605baa8",
   "metadata": {},
   "source": [
    "## Detekcija slova u osmosmerci"
   ]
  },
  {
   "cell_type": "code",
   "execution_count": null,
   "id": "cb9b9c83",
   "metadata": {},
   "outputs": [],
   "source": [
    "# isecanje dela slike koji sadrži osmosmerku\n",
    "image_wordsearch = crop_to_frame(image, frame)\n",
    "contours = cv2.findContours(image_wordsearch.copy(), cv2.RETR_LIST, cv2.CHAIN_APPROX_SIMPLE)[0]\n",
    "\n",
    "# uklanjanje slike rešenja unutar osmosmerke\n",
    "mask = remove_image(image_wordsearch, contours)\n",
    "image_wordsearch = cv2.bitwise_and(image_wordsearch, image_wordsearch, mask=mask)\n",
    "image_wordsearch[mask==0] = 255\n",
    "\n",
    "display_image(image_wordsearch)"
   ]
  },
  {
   "cell_type": "code",
   "execution_count": null,
   "id": "5a65e950",
   "metadata": {
    "scrolled": false
   },
   "outputs": [],
   "source": [
    "wordsearch = pytesseract.image_to_string(image_wordsearch, lang='srp_latn', config=\"--psm 6\") # --oem 2          \n",
    "wordsearch = ''.join([c for c in wordsearch if c in alphabet]).split()\n",
    "\n",
    "print(wordsearch)"
   ]
  },
  {
   "cell_type": "markdown",
   "id": "8cc1cd58",
   "metadata": {},
   "source": [
    "## Rešavanje osmosmerke"
   ]
  },
  {
   "cell_type": "code",
   "execution_count": null,
   "id": "58f5b750",
   "metadata": {},
   "outputs": [],
   "source": []
  }
 ],
 "metadata": {
  "kernelspec": {
   "display_name": "Python 3 (ipykernel)",
   "language": "python",
   "name": "python3"
  },
  "language_info": {
   "codemirror_mode": {
    "name": "ipython",
    "version": 3
   },
   "file_extension": ".py",
   "mimetype": "text/x-python",
   "name": "python",
   "nbconvert_exporter": "python",
   "pygments_lexer": "ipython3",
   "version": "3.9.0"
  }
 },
 "nbformat": 4,
 "nbformat_minor": 5
}
