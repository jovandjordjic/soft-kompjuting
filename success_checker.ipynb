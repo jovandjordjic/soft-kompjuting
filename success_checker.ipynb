{
 "cells": [
  {
   "cell_type": "code",
   "execution_count": 2,
   "metadata": {},
   "outputs": [],
   "source": [
    "import import_ipynb\n",
    "from wordsearcher import Match, find_matches\n",
    "from difflib import SequenceMatcher"
   ]
  },
  {
   "cell_type": "code",
   "execution_count": null,
   "metadata": {
    "pycharm": {
     "name": "#%%\n"
    }
   },
   "outputs": [],
   "source": [
    "def get_similarity(string_a, string_b):\n",
    "    return SequenceMatcher(None, string_a, string_b).ratio()\n",
    "\n",
    "\n",
    "def check_matches(matches: list[Match], expected_word_list: list[str]):\n",
    "    correct_matches_count = 0\n",
    "\n",
    "    num_of_words = len(matches) if (len(matches) <= len(expected_word_list)) else len(expected_word_list)\n",
    "\n",
    "    for match_id in range(num_of_words):\n",
    "        match_word = matches[match_id].text\n",
    "\n",
    "        if match_word in expected_word_list:\n",
    "            correct_matches_count += 1\n",
    "\n",
    "    return correct_matches_count / len(expected_word_list)\n",
    "\n",
    "\n",
    "def check_cells(detected_rows: list[str], expected_rows: list[str]):\n",
    "    correct_rows_count = 0\n",
    "\n",
    "    num_of_rows = len(detected_rows) if (len(detected_rows) <= len(expected_rows)) else len(expected_rows)\n",
    "\n",
    "    for row_id in range(0, num_of_rows):\n",
    "        stripped_row = detected_rows[row_id].strip()\n",
    "        correct_rows_count += get_similarity(stripped_row, expected_rows[row_id])\n",
    "\n",
    "    return correct_rows_count / len(expected_rows)\n",
    "\n",
    "\n",
    "def check_words(detected_words: list[str], expected_words: list[str]):\n",
    "    correct_word_count = 0\n",
    "\n",
    "    stripped_expected_words = [word.strip() for word in expected_words]\n",
    "\n",
    "    for word in detected_words:\n",
    "        if word in stripped_expected_words:\n",
    "            correct_word_count += 1\n",
    "\n",
    "    return correct_word_count / len(expected_words)"
   ]
  }
 ],
 "metadata": {
  "kernelspec": {
   "display_name": "Python 3 (ipykernel)",
   "language": "python",
   "name": "python3"
  },
  "language_info": {
   "codemirror_mode": {
    "name": "ipython",
    "version": 3
   },
   "file_extension": ".py",
   "mimetype": "text/x-python",
   "name": "python",
   "nbconvert_exporter": "python",
   "pygments_lexer": "ipython3",
   "version": "3.9.10"
  }
 },
 "nbformat": 4,
 "nbformat_minor": 1
}